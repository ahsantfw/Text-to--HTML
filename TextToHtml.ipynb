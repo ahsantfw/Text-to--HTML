{
  "nbformat": 4,
  "nbformat_minor": 0,
  "metadata": {
    "colab": {
      "provenance": [],
      "authorship_tag": "ABX9TyPmuxMGZ0CLmBaMACoQwln/",
      "include_colab_link": true
    },
    "kernelspec": {
      "name": "python3",
      "display_name": "Python 3"
    },
    "language_info": {
      "name": "python"
    }
  },
  "cells": [
    {
      "cell_type": "markdown",
      "metadata": {
        "id": "view-in-github",
        "colab_type": "text"
      },
      "source": [
        "<a href=\"https://colab.research.google.com/github/ahsantfw/texttohtml/blob/main/TextToHtml.ipynb\" target=\"_parent\"><img src=\"https://colab.research.google.com/assets/colab-badge.svg\" alt=\"Open In Colab\"/></a>"
      ]
    },
    {
      "cell_type": "markdown",
      "source": [
        "**A python script to Convert Text Files into HTML with formating**"
      ],
      "metadata": {
        "id": "NdT0MmEJ6vfm"
      }
    },
    {
      "cell_type": "code",
      "source": [
        "import pandas as pd\n",
        "\n",
        "df = pd.DataFrame(columns=[\"Heading\", \"HTML\"])\n",
        "# Read list of file names in list and loop through each file\n",
        "# Your code here\n",
        "\n",
        "# Open a new file, later replace name\n",
        "with open(\"/content/Are_new_air_conditioners_lighter.txt\") as file_in:\n",
        "  lines = []\n",
        "  for line in file_in:\n",
        "      if '###' in line:\n",
        "        line = line.replace('###', '<h3>')\n",
        "        line = line + \"</h3>\"\n",
        "      elif '##' in line:\n",
        "        line = line.replace('##', '<h2>')\n",
        "        line = line + \"</h2>\"\n",
        "      elif '#' in line:\n",
        "        line = line.replace('#', '<h1>')\n",
        "        line = line + \"</h1>\"\n",
        "      line = line.replace('\\n', '<p>')\n",
        "      lines.append(line)\n",
        "  \n",
        "  # Preprocessing\n",
        "  lines.pop(0)\n",
        "  h = lines.pop(1).strip('</p>')\n",
        "  lines = ' '.join(lines)\n",
        "  \n",
        "  # Append to csv file\n",
        "  df = df.append({'Heading':h, 'HTML': lines}, ignore_index=True)\n",
        "\n",
        "# Convert dataframe to csv\n",
        "df.to_csv('final.csv')"
      ],
      "metadata": {
        "id": "GaSwfuYZs5Ql"
      },
      "execution_count": 89,
      "outputs": []
    },
    {
      "cell_type": "code",
      "source": [
        "# Incase you need HTML files\n",
        "# with open (\"text.html\", \"w\") as output:\n",
        "#   output.write(file)"
      ],
      "metadata": {
        "id": "EE1CAt1m2dD_"
      },
      "execution_count": null,
      "outputs": []
    }
  ]
}